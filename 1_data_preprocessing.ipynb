{
 "cells": [
  {
   "cell_type": "code",
   "execution_count": 1,
   "metadata": {},
   "outputs": [],
   "source": [
    "import matplotlib.pyplot as plt\n",
    "import pandas as pd\n",
    "import seaborn as sns"
   ]
  },
  {
   "cell_type": "code",
   "execution_count": 2,
   "metadata": {},
   "outputs": [],
   "source": [
    "data = pd.read_csv('data/generated_data.csv')"
   ]
  },
  {
   "cell_type": "code",
   "execution_count": 3,
   "metadata": {},
   "outputs": [
    {
     "data": {
      "text/html": [
       "<div>\n",
       "<style scoped>\n",
       "    .dataframe tbody tr th:only-of-type {\n",
       "        vertical-align: middle;\n",
       "    }\n",
       "\n",
       "    .dataframe tbody tr th {\n",
       "        vertical-align: top;\n",
       "    }\n",
       "\n",
       "    .dataframe thead th {\n",
       "        text-align: right;\n",
       "    }\n",
       "</style>\n",
       "<table border=\"1\" class=\"dataframe\">\n",
       "  <thead>\n",
       "    <tr style=\"text-align: right;\">\n",
       "      <th></th>\n",
       "      <th>seed</th>\n",
       "      <th>previous_pattern</th>\n",
       "      <th>pattern</th>\n",
       "      <th>base_price</th>\n",
       "      <th>Monday AM</th>\n",
       "      <th>Monday PM</th>\n",
       "      <th>Tuesday AM</th>\n",
       "      <th>Tuesday PM</th>\n",
       "      <th>Wednesday AM</th>\n",
       "      <th>Wednesday PM</th>\n",
       "      <th>Thursday AM</th>\n",
       "      <th>Thursday PM</th>\n",
       "      <th>Friday AM</th>\n",
       "      <th>Friday PM</th>\n",
       "      <th>Saturday AM</th>\n",
       "      <th>Saturday PM</th>\n",
       "    </tr>\n",
       "  </thead>\n",
       "  <tbody>\n",
       "    <tr>\n",
       "      <th>0</th>\n",
       "      <td>72626</td>\n",
       "      <td>2</td>\n",
       "      <td>0</td>\n",
       "      <td>98</td>\n",
       "      <td>129</td>\n",
       "      <td>106</td>\n",
       "      <td>129</td>\n",
       "      <td>108</td>\n",
       "      <td>69</td>\n",
       "      <td>64</td>\n",
       "      <td>118</td>\n",
       "      <td>122</td>\n",
       "      <td>108</td>\n",
       "      <td>76</td>\n",
       "      <td>71</td>\n",
       "      <td>65</td>\n",
       "    </tr>\n",
       "    <tr>\n",
       "      <th>1</th>\n",
       "      <td>91535</td>\n",
       "      <td>1</td>\n",
       "      <td>2</td>\n",
       "      <td>108</td>\n",
       "      <td>96</td>\n",
       "      <td>93</td>\n",
       "      <td>88</td>\n",
       "      <td>84</td>\n",
       "      <td>79</td>\n",
       "      <td>75</td>\n",
       "      <td>71</td>\n",
       "      <td>65</td>\n",
       "      <td>60</td>\n",
       "      <td>55</td>\n",
       "      <td>50</td>\n",
       "      <td>47</td>\n",
       "    </tr>\n",
       "    <tr>\n",
       "      <th>2</th>\n",
       "      <td>59433</td>\n",
       "      <td>0</td>\n",
       "      <td>1</td>\n",
       "      <td>102</td>\n",
       "      <td>88</td>\n",
       "      <td>83</td>\n",
       "      <td>79</td>\n",
       "      <td>74</td>\n",
       "      <td>70</td>\n",
       "      <td>110</td>\n",
       "      <td>167</td>\n",
       "      <td>512</td>\n",
       "      <td>189</td>\n",
       "      <td>114</td>\n",
       "      <td>72</td>\n",
       "      <td>52</td>\n",
       "    </tr>\n",
       "  </tbody>\n",
       "</table>\n",
       "</div>"
      ],
      "text/plain": [
       "    seed  previous_pattern  pattern  base_price  Monday AM  Monday PM  \\\n",
       "0  72626                 2        0          98        129        106   \n",
       "1  91535                 1        2         108         96         93   \n",
       "2  59433                 0        1         102         88         83   \n",
       "\n",
       "   Tuesday AM  Tuesday PM  Wednesday AM  Wednesday PM  Thursday AM  \\\n",
       "0         129         108            69            64          118   \n",
       "1          88          84            79            75           71   \n",
       "2          79          74            70           110          167   \n",
       "\n",
       "   Thursday PM  Friday AM  Friday PM  Saturday AM  Saturday PM  \n",
       "0          122        108         76           71           65  \n",
       "1           65         60         55           50           47  \n",
       "2          512        189        114           72           52  "
      ]
     },
     "metadata": {},
     "output_type": "display_data"
    },
    {
     "name": "stdout",
     "output_type": "stream",
     "text": [
      "Data Shape: (9668, 16)\n"
     ]
    }
   ],
   "source": [
    "display(data.head(3))\n",
    "print('Data Shape:', data.shape)"
   ]
  },
  {
   "cell_type": "code",
   "execution_count": 4,
   "metadata": {},
   "outputs": [
    {
     "name": "stdout",
     "output_type": "stream",
     "text": [
      "Contains duplicated values: False\n"
     ]
    }
   ],
   "source": [
    "# check for and drop duplicates\n",
    "subset_columns = ['seed', 'pattern']\n",
    "contains_duplicates = data.duplicated(subset=subset_columns).any()\n",
    "print('Contains duplicated values:', contains_duplicates)\n",
    "\n",
    "# drop duplicates\n",
    "if (contains_duplicates): \n",
    "    data.drop_duplicates(subset=subset_columns, inplace=True, ignore_index=True)\n",
    "    print('Shape after dropping duplicates:', data.shape)\n",
    "\n",
    "# update data\n",
    "data.to_csv('data/generated_data.csv', index=False)"
   ]
  }
 ],
 "metadata": {
  "kernelspec": {
   "display_name": "Python 3",
   "language": "python",
   "name": "python3"
  },
  "language_info": {
   "codemirror_mode": {
    "name": "ipython",
    "version": 3
   },
   "file_extension": ".py",
   "mimetype": "text/x-python",
   "name": "python",
   "nbconvert_exporter": "python",
   "pygments_lexer": "ipython3",
   "version": "3.6.6"
  }
 },
 "nbformat": 4,
 "nbformat_minor": 2
}
