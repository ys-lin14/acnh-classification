{
 "cells": [
  {
   "cell_type": "code",
   "execution_count": 1,
   "metadata": {},
   "outputs": [],
   "source": [
    "import numpy as np\n",
    "import pandas as pd\n",
    "import seaborn as sns\n",
    "\n",
    "from sklearn.model_selection import StratifiedKFold\n",
    "from sklearn.naive_bayes import GaussianNB"
   ]
  },
  {
   "cell_type": "code",
   "execution_count": 2,
   "metadata": {},
   "outputs": [],
   "source": [
    "generated_data = pd.read_csv('data/generated_data.csv')\n",
    "X_generated = generated_data.iloc[:, 4:17].to_numpy()\n",
    "y_generated = generated_data.loc[:, 'pattern'].to_numpy()"
   ]
  },
  {
   "cell_type": "code",
   "execution_count": 3,
   "metadata": {},
   "outputs": [],
   "source": [
    "mafia_data = pd.read_csv('data/turnip_mafia_data.csv')\n",
    "X_mafia = mafia_data.iloc[:, 1:13]"
   ]
  },
  {
   "cell_type": "code",
   "execution_count": 4,
   "metadata": {},
   "outputs": [
    {
     "name": "stdout",
     "output_type": "stream",
     "text": [
      "Mean Accuracy: 0.9370075395447598\n"
     ]
    }
   ],
   "source": [
    "naive_bayes_classifier = GaussianNB()\n",
    "\n",
    "k_fold = StratifiedKFold(n_splits=5)\n",
    "accuracy = 0\n",
    "for train_index, test_index in k_fold.split(X_generated, y_generated):\n",
    "    X_train, X_test = X_generated[train_index], X_generated[test_index]\n",
    "    y_train, y_test = y_generated[train_index], y_generated[test_index]\n",
    "    \n",
    "    naive_bayes_classifier.fit(X_train, y_train)\n",
    "    accuracy = accuracy + naive_bayes_classifier.score(X_test, y_test)\n",
    "    \n",
    "mean_accuracy = accuracy / k_fold.get_n_splits(X_generated)\n",
    "print('Mean Accuracy:', mean_accuracy)"
   ]
  },
  {
   "cell_type": "code",
   "execution_count": 5,
   "metadata": {},
   "outputs": [],
   "source": [
    "naive_bayes_classifier.fit(X_generated, y_generated)\n",
    "predicted_patterns = naive_bayes_classifier.predict(X_mafia)\n",
    "mafia_data['naive_bayes_prediction'] = predicted_patterns\n",
    "mafia_data.to_csv('data/turnip_mafia_data.csv', index=False)"
   ]
  }
 ],
 "metadata": {
  "kernelspec": {
   "display_name": "Python 3",
   "language": "python",
   "name": "python3"
  },
  "language_info": {
   "codemirror_mode": {
    "name": "ipython",
    "version": 3
   },
   "file_extension": ".py",
   "mimetype": "text/x-python",
   "name": "python",
   "nbconvert_exporter": "python",
   "pygments_lexer": "ipython3",
   "version": "3.6.6"
  }
 },
 "nbformat": 4,
 "nbformat_minor": 2
}
